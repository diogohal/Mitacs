import requests
import time

with open('stations.txt', 'r') as stations_txt:
    stations = stations_txt.read()

while(True):
    x = requests.get('https://www.snirh.gov.br/hidroweb/rest/api/documento/gerarTelemetricas?codigosEstacoes=222851580&tipoArquivo=3&periodoInicial=2024-05-01T04:00:00.000Z&periodoFinal=2024-05-05T04:00:00.000Z')
    if(x):
        break
    time.wait(5)
print(stations)
print(x)