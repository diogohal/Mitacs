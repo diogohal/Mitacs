{
 "cells": [
  {
   "cell_type": "code",
   "execution_count": 1,
   "metadata": {},
   "outputs": [],
   "source": [
    "import numpy as np\n",
    "import pandas as pd\n",
    "import os"
   ]
  },
  {
   "cell_type": "code",
   "execution_count": 89,
   "metadata": {},
   "outputs": [],
   "source": [
    "from datetime import datetime, timedelta\n",
    "\n",
    "delta = timedelta(minutes=15)\n",
    "dates = []\n",
    "date = datetime(year=2021, month=4, day=1, hour=0, minute=0, second=0)\n",
    "while(date < datetime(2023, 12, 1)):\n",
    "    dates.append(date)\n",
    "    date = date + delta\n",
    "    if(date.month > 11):\n",
    "        date = datetime(date.year+1, month=4, day=1, hour=0, minute=0, second=0)\n",
    "dataset_df = pd.DataFrame(columns=['Datetime'], data=dates)"
   ]
  },
  {
   "cell_type": "code",
   "execution_count": 90,
   "metadata": {},
   "outputs": [
    {
     "name": "stdout",
     "output_type": "stream",
     "text": [
      "Credit Grange\n",
      "Credit King\n",
      "Credit MGCC\n",
      "Levi Cr\n",
      "Loyalist Cr\n",
      "Serson Cr\n",
      "Shaws Cr\n",
      "West Credit 10th\n"
     ]
    }
   ],
   "source": [
    "folder_path = 'Ontario_Data/Credit_River_Conservation/Hydrometric'\n",
    "folder_list = os.listdir(folder_path)\n",
    "\n",
    "for file in folder_list:\n",
    "    if file.find('dta') < 0:\n",
    "        continue\n",
    "    station_name = file.split('(')[1].split(')')[0]\n",
    "    print(station_name)\n",
    "    df = pd.read_csv(os.path.join(folder_path, file), sep=',', low_memory=False)\n",
    "    df['Datetime'] = pd.to_datetime(df['Date'] + ' ' + df['Time'], format='%m/%d/%Y %I:%M:%S %p')\n",
    "    df = df[['Datetime', 'Stage (m)']]\n",
    "    df = df.rename(columns={'Stage (m)': station_name})\n",
    "    dataset_df = dataset_df.merge(df, on='Datetime', how='left')    "
   ]
  },
  {
   "cell_type": "code",
   "execution_count": 91,
   "metadata": {},
   "outputs": [],
   "source": [
    "dataset_df.to_csv('crc_dataset.csv', sep=',', index=False)"
   ]
  },
  {
   "cell_type": "markdown",
   "metadata": {},
   "source": [
    "## Precipitation Integration"
   ]
  },
  {
   "cell_type": "code",
   "execution_count": 6,
   "metadata": {},
   "outputs": [
    {
     "name": "stderr",
     "output_type": "stream",
     "text": [
      "C:\\Users\\IEP User 4\\AppData\\Local\\Temp\\ipykernel_2784\\454836786.py:1: DtypeWarning: Columns (1,3,6,7,8) have mixed types. Specify dtype option on import or set low_memory=False.\n",
      "  df = pd.read_csv('crc_dataset.csv', sep=',')\n",
      "C:\\Users\\IEP User 4\\AppData\\Local\\Temp\\ipykernel_2784\\454836786.py:3: UserWarning: Could not infer format, so each element will be parsed individually, falling back to `dateutil`. To ensure parsing is consistent and as-expected, please specify a format.\n",
      "  prec['Datetime'] = pd.to_datetime(prec['Date'] + ' ' + prec['Time'])\n"
     ]
    },
    {
     "data": {
      "text/html": [
       "<div>\n",
       "<style scoped>\n",
       "    .dataframe tbody tr th:only-of-type {\n",
       "        vertical-align: middle;\n",
       "    }\n",
       "\n",
       "    .dataframe tbody tr th {\n",
       "        vertical-align: top;\n",
       "    }\n",
       "\n",
       "    .dataframe thead th {\n",
       "        text-align: right;\n",
       "    }\n",
       "</style>\n",
       "<table border=\"1\" class=\"dataframe\">\n",
       "  <thead>\n",
       "    <tr style=\"text-align: right;\">\n",
       "      <th></th>\n",
       "      <th>Date</th>\n",
       "      <th>Time</th>\n",
       "      <th>Precipitation (mm)</th>\n",
       "      <th>Datetime</th>\n",
       "    </tr>\n",
       "  </thead>\n",
       "  <tbody>\n",
       "    <tr>\n",
       "      <th>0</th>\n",
       "      <td>1/1/2021</td>\n",
       "      <td>12:00:00 AM</td>\n",
       "      <td>0.0</td>\n",
       "      <td>2021-01-01 00:00:00</td>\n",
       "    </tr>\n",
       "    <tr>\n",
       "      <th>1</th>\n",
       "      <td>1/1/2021</td>\n",
       "      <td>1:00:00 AM</td>\n",
       "      <td>0.0</td>\n",
       "      <td>2021-01-01 01:00:00</td>\n",
       "    </tr>\n",
       "    <tr>\n",
       "      <th>2</th>\n",
       "      <td>1/1/2021</td>\n",
       "      <td>2:00:00 AM</td>\n",
       "      <td>0.0</td>\n",
       "      <td>2021-01-01 02:00:00</td>\n",
       "    </tr>\n",
       "    <tr>\n",
       "      <th>3</th>\n",
       "      <td>1/1/2021</td>\n",
       "      <td>3:00:00 AM</td>\n",
       "      <td>0.0</td>\n",
       "      <td>2021-01-01 03:00:00</td>\n",
       "    </tr>\n",
       "    <tr>\n",
       "      <th>4</th>\n",
       "      <td>1/1/2021</td>\n",
       "      <td>4:00:00 AM</td>\n",
       "      <td>0.0</td>\n",
       "      <td>2021-01-01 04:00:00</td>\n",
       "    </tr>\n",
       "    <tr>\n",
       "      <th>...</th>\n",
       "      <td>...</td>\n",
       "      <td>...</td>\n",
       "      <td>...</td>\n",
       "      <td>...</td>\n",
       "    </tr>\n",
       "    <tr>\n",
       "      <th>26275</th>\n",
       "      <td>12/31/2023</td>\n",
       "      <td>7:00:00 PM</td>\n",
       "      <td>0.0</td>\n",
       "      <td>2023-12-31 19:00:00</td>\n",
       "    </tr>\n",
       "    <tr>\n",
       "      <th>26276</th>\n",
       "      <td>12/31/2023</td>\n",
       "      <td>8:00:00 PM</td>\n",
       "      <td>0.2</td>\n",
       "      <td>2023-12-31 20:00:00</td>\n",
       "    </tr>\n",
       "    <tr>\n",
       "      <th>26277</th>\n",
       "      <td>12/31/2023</td>\n",
       "      <td>9:00:00 PM</td>\n",
       "      <td>0.0</td>\n",
       "      <td>2023-12-31 21:00:00</td>\n",
       "    </tr>\n",
       "    <tr>\n",
       "      <th>26278</th>\n",
       "      <td>12/31/2023</td>\n",
       "      <td>10:00:00 PM</td>\n",
       "      <td>0.0</td>\n",
       "      <td>2023-12-31 22:00:00</td>\n",
       "    </tr>\n",
       "    <tr>\n",
       "      <th>26279</th>\n",
       "      <td>12/31/2023</td>\n",
       "      <td>11:00:00 PM</td>\n",
       "      <td>0.0</td>\n",
       "      <td>2023-12-31 23:00:00</td>\n",
       "    </tr>\n",
       "  </tbody>\n",
       "</table>\n",
       "<p>26280 rows × 4 columns</p>\n",
       "</div>"
      ],
      "text/plain": [
       "             Date         Time  Precipitation (mm)            Datetime\n",
       "0        1/1/2021  12:00:00 AM                 0.0 2021-01-01 00:00:00\n",
       "1        1/1/2021   1:00:00 AM                 0.0 2021-01-01 01:00:00\n",
       "2        1/1/2021   2:00:00 AM                 0.0 2021-01-01 02:00:00\n",
       "3        1/1/2021   3:00:00 AM                 0.0 2021-01-01 03:00:00\n",
       "4        1/1/2021   4:00:00 AM                 0.0 2021-01-01 04:00:00\n",
       "...           ...          ...                 ...                 ...\n",
       "26275  12/31/2023   7:00:00 PM                 0.0 2023-12-31 19:00:00\n",
       "26276  12/31/2023   8:00:00 PM                 0.2 2023-12-31 20:00:00\n",
       "26277  12/31/2023   9:00:00 PM                 0.0 2023-12-31 21:00:00\n",
       "26278  12/31/2023  10:00:00 PM                 0.0 2023-12-31 22:00:00\n",
       "26279  12/31/2023  11:00:00 PM                 0.0 2023-12-31 23:00:00\n",
       "\n",
       "[26280 rows x 4 columns]"
      ]
     },
     "execution_count": 6,
     "metadata": {},
     "output_type": "execute_result"
    }
   ],
   "source": [
    "df = pd.read_csv('crc_dataset.csv', sep=',')\n",
    "prec = pd.read_csv('Ontario_Data/Credit_River_Conservation/Precipitation/dta_YorkU_June2024(Carolyn Cr Precip).csv')\n",
    "prec['Datetime'] = pd.to_datetime(prec['Date'] + ' ' + prec['Time'])\n",
    "\n",
    "\n"
   ]
  }
 ],
 "metadata": {
  "kernelspec": {
   "display_name": "base",
   "language": "python",
   "name": "python3"
  },
  "language_info": {
   "codemirror_mode": {
    "name": "ipython",
    "version": 3
   },
   "file_extension": ".py",
   "mimetype": "text/x-python",
   "name": "python",
   "nbconvert_exporter": "python",
   "pygments_lexer": "ipython3",
   "version": "3.11.7"
  }
 },
 "nbformat": 4,
 "nbformat_minor": 2
}
