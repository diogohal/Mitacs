{
 "cells": [
  {
   "cell_type": "code",
   "execution_count": 41,
   "metadata": {},
   "outputs": [],
   "source": [
    "import numpy as np\n",
    "import pandas as pd\n",
    "import os"
   ]
  },
  {
   "cell_type": "code",
   "execution_count": 89,
   "metadata": {},
   "outputs": [],
   "source": [
    "from datetime import datetime, timedelta\n",
    "\n",
    "delta = timedelta(minutes=15)\n",
    "dates = []\n",
    "date = datetime(year=2021, month=4, day=1, hour=0, minute=0, second=0)\n",
    "while(date < datetime(2023, 12, 1)):\n",
    "    dates.append(date)\n",
    "    date = date + delta\n",
    "    if(date.month > 11):\n",
    "        date = datetime(date.year+1, month=4, day=1, hour=0, minute=0, second=0)\n",
    "dataset_df = pd.DataFrame(columns=['Datetime'], data=dates)"
   ]
  },
  {
   "cell_type": "code",
   "execution_count": 90,
   "metadata": {},
   "outputs": [
    {
     "name": "stdout",
     "output_type": "stream",
     "text": [
      "Credit Grange\n",
      "Credit King\n",
      "Credit MGCC\n",
      "Levi Cr\n",
      "Loyalist Cr\n",
      "Serson Cr\n",
      "Shaws Cr\n",
      "West Credit 10th\n"
     ]
    }
   ],
   "source": [
    "folder_path = 'Ontario_Data/Credit_River_Conservation/Hydrometric'\n",
    "folder_list = os.listdir(folder_path)\n",
    "\n",
    "for file in folder_list:\n",
    "    if file.find('dta') < 0:\n",
    "        continue\n",
    "    station_name = file.split('(')[1].split(')')[0]\n",
    "    print(station_name)\n",
    "    df = pd.read_csv(os.path.join(folder_path, file), sep=',', low_memory=False)\n",
    "    df['Datetime'] = pd.to_datetime(df['Date'] + ' ' + df['Time'], format='%m/%d/%Y %I:%M:%S %p')\n",
    "    df = df[['Datetime', 'Stage (m)']]\n",
    "    df = df.rename(columns={'Stage (m)': station_name})\n",
    "    dataset_df = dataset_df.merge(df, on='Datetime', how='left')    "
   ]
  },
  {
   "cell_type": "code",
   "execution_count": 91,
   "metadata": {},
   "outputs": [],
   "source": [
    "dataset_df.to_csv('crc_dataset.csv', sep=',', index=False)"
   ]
  },
  {
   "cell_type": "code",
   "execution_count": null,
   "metadata": {},
   "outputs": [],
   "source": []
  }
 ],
 "metadata": {
  "kernelspec": {
   "display_name": "base",
   "language": "python",
   "name": "python3"
  },
  "language_info": {
   "codemirror_mode": {
    "name": "ipython",
    "version": 3
   },
   "file_extension": ".py",
   "mimetype": "text/x-python",
   "name": "python",
   "nbconvert_exporter": "python",
   "pygments_lexer": "ipython3",
   "version": "3.11.7"
  }
 },
 "nbformat": 4,
 "nbformat_minor": 2
}
