{
 "cells": [
  {
   "cell_type": "markdown",
   "metadata": {},
   "source": [
    "# Hydrometric Data of Credit River"
   ]
  },
  {
   "cell_type": "markdown",
   "metadata": {},
   "source": [
    "The goal of this notebook is to collect the hydrometric data of Credit River and analyze it. The source data is available on https://wateroffice.ec.gc.ca/map/index_e.html?type=real_time."
   ]
  },
  {
   "cell_type": "code",
   "execution_count": 1,
   "metadata": {},
   "outputs": [],
   "source": [
    "import pandas as pd\n",
    "import numpy as np\n",
    "import matplotlib.pyplot as plt\n",
    "import ipywidgets as widgets\n",
    "from IPython.display import display, clear_output"
   ]
  },
  {
   "cell_type": "markdown",
   "metadata": {},
   "source": [
    "The website allows us to apply the period from 2019, but the data available is only from 2022. Also the CSV format has an error on the date column so it's necessary to download a .txt format."
   ]
  },
  {
   "cell_type": "code",
   "execution_count": 12,
   "metadata": {},
   "outputs": [
    {
     "data": {
      "text/html": [
       "<div>\n",
       "<style scoped>\n",
       "    .dataframe tbody tr th:only-of-type {\n",
       "        vertical-align: middle;\n",
       "    }\n",
       "\n",
       "    .dataframe tbody tr th {\n",
       "        vertical-align: top;\n",
       "    }\n",
       "\n",
       "    .dataframe thead th {\n",
       "        text-align: right;\n",
       "    }\n",
       "</style>\n",
       "<table border=\"1\" class=\"dataframe\">\n",
       "  <thead>\n",
       "    <tr style=\"text-align: right;\">\n",
       "      <th></th>\n",
       "      <th>Date (EST)</th>\n",
       "      <th>Parameter</th>\n",
       "      <th>Value (m)</th>\n",
       "      <th>Approval</th>\n",
       "      <th>Qualifier</th>\n",
       "    </tr>\n",
       "  </thead>\n",
       "  <tbody>\n",
       "    <tr>\n",
       "      <th>0</th>\n",
       "      <td>2022-11-07 08:05:00</td>\n",
       "      <td>46</td>\n",
       "      <td>1.32</td>\n",
       "      <td>Final</td>\n",
       "      <td>UNSPECIFIED</td>\n",
       "    </tr>\n",
       "    <tr>\n",
       "      <th>1</th>\n",
       "      <td>2022-11-07 08:10:00</td>\n",
       "      <td>46</td>\n",
       "      <td>1.32</td>\n",
       "      <td>Final</td>\n",
       "      <td>UNSPECIFIED</td>\n",
       "    </tr>\n",
       "    <tr>\n",
       "      <th>2</th>\n",
       "      <td>2022-11-07 08:15:00</td>\n",
       "      <td>46</td>\n",
       "      <td>1.32</td>\n",
       "      <td>Final</td>\n",
       "      <td>UNSPECIFIED</td>\n",
       "    </tr>\n",
       "    <tr>\n",
       "      <th>3</th>\n",
       "      <td>2022-11-07 08:20:00</td>\n",
       "      <td>46</td>\n",
       "      <td>1.32</td>\n",
       "      <td>Final</td>\n",
       "      <td>UNSPECIFIED</td>\n",
       "    </tr>\n",
       "    <tr>\n",
       "      <th>4</th>\n",
       "      <td>2022-11-07 08:25:00</td>\n",
       "      <td>46</td>\n",
       "      <td>1.32</td>\n",
       "      <td>Final</td>\n",
       "      <td>UNSPECIFIED</td>\n",
       "    </tr>\n",
       "  </tbody>\n",
       "</table>\n",
       "</div>"
      ],
      "text/plain": [
       "            Date (EST)  Parameter   Value (m) Approval    Qualifier\n",
       "0  2022-11-07 08:05:00          46       1.32    Final  UNSPECIFIED\n",
       "1  2022-11-07 08:10:00          46       1.32    Final  UNSPECIFIED\n",
       "2  2022-11-07 08:15:00          46       1.32    Final  UNSPECIFIED\n",
       "3  2022-11-07 08:20:00          46       1.32    Final  UNSPECIFIED\n",
       "4  2022-11-07 08:25:00          46       1.32    Final  UNSPECIFIED"
      ]
     },
     "execution_count": 12,
     "metadata": {},
     "output_type": "execute_result"
    }
   ],
   "source": [
    "df = pd.read_csv('Ontario/Hydrometric/02HB001_HG_20240607T1338.txt', sep='\\t')\n",
    "df.head()"
   ]
  },
  {
   "cell_type": "markdown",
   "metadata": {},
   "source": [
    "Now I will import every file into a single pandas DataFrame."
   ]
  },
  {
   "cell_type": "code",
   "execution_count": 32,
   "metadata": {},
   "outputs": [],
   "source": [
    "import os\n",
    "folder = 'Ontario/Hydrometric'\n",
    "df = None\n",
    "\n",
    "for file in os.listdir(folder):\n",
    "    df_temp = pd.read_csv(os.path.join(folder, file), sep='\\t')\n",
    "    station = file.split('_')[0]\n",
    "    metric = file.split('_')[1]\n",
    "    if(metric == 'HG'):\n",
    "        metric = 'Water Level (m)'\n",
    "        df_temp = df_temp.rename(columns={'Value (m)':'Value'})\n",
    "    else:\n",
    "        metric = 'Discharge (m³/s)'\n",
    "        df_temp = df_temp.rename(columns={'Value (m³/s)':'Value'})\n",
    "    df_temp['Metric'] = metric\n",
    "    df_temp['Station'] = station\n",
    "    # display(df_temp.head())\n",
    "    if(isinstance(df, pd.DataFrame)):\n",
    "        df = pd.concat([df, df_temp])\n",
    "    else:    \n",
    "        df = df_temp"
   ]
  },
  {
   "cell_type": "code",
   "execution_count": 35,
   "metadata": {},
   "outputs": [],
   "source": [
    "df.to_csv('hydrometric_data_2022_2024.csv', sep=',', index=False)"
   ]
  }
 ],
 "metadata": {
  "kernelspec": {
   "display_name": "base",
   "language": "python",
   "name": "python3"
  },
  "language_info": {
   "codemirror_mode": {
    "name": "ipython",
    "version": 3
   },
   "file_extension": ".py",
   "mimetype": "text/x-python",
   "name": "python",
   "nbconvert_exporter": "python",
   "pygments_lexer": "ipython3",
   "version": "3.11.7"
  }
 },
 "nbformat": 4,
 "nbformat_minor": 2
}
